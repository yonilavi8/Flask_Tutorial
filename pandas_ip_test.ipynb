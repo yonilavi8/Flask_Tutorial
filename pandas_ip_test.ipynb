{
 "cells": [
  {
   "cell_type": "code",
   "execution_count": 179,
   "metadata": {},
   "outputs": [],
   "source": [
    "test_list = [\n",
    "    ['10.0.0.1', 'Prod'], \n",
    "    ['10.0.0.2', 'Dev'],\n",
    "    ['10.0.0.3', 'Server'],\n",
    "    ['10.0.0.4', 'Dev'],\n",
    "    ['10.0.0.5', 'Dev'],\n",
    "    ['10.0.0.6', 'Prod'],\n",
    "    ['10.0.0.7', 'Server'],\n",
    "    ['10.0.0.8', 'Server'],\n",
    "    ['10.0.0.9', 'Prod'],\n",
    "    ['10.0.0.10', 'Dev']\n",
    "]\n",
    "# print(test_list)"
   ]
  },
  {
   "cell_type": "code",
   "execution_count": 180,
   "metadata": {},
   "outputs": [
    {
     "data": {
      "text/html": [
       "<div>\n",
       "<style scoped>\n",
       "    .dataframe tbody tr th:only-of-type {\n",
       "        vertical-align: middle;\n",
       "    }\n",
       "\n",
       "    .dataframe tbody tr th {\n",
       "        vertical-align: top;\n",
       "    }\n",
       "\n",
       "    .dataframe thead th {\n",
       "        text-align: right;\n",
       "    }\n",
       "</style>\n",
       "<table border=\"1\" class=\"dataframe\">\n",
       "  <thead>\n",
       "    <tr style=\"text-align: right;\">\n",
       "      <th></th>\n",
       "      <th>0</th>\n",
       "      <th>1</th>\n",
       "      <th>2</th>\n",
       "      <th>3</th>\n",
       "      <th>label</th>\n",
       "    </tr>\n",
       "  </thead>\n",
       "  <tbody>\n",
       "    <tr>\n",
       "      <th>0</th>\n",
       "      <td>10</td>\n",
       "      <td>0</td>\n",
       "      <td>0</td>\n",
       "      <td>1</td>\n",
       "      <td>Prod</td>\n",
       "    </tr>\n",
       "    <tr>\n",
       "      <th>1</th>\n",
       "      <td>10</td>\n",
       "      <td>0</td>\n",
       "      <td>0</td>\n",
       "      <td>2</td>\n",
       "      <td>Dev</td>\n",
       "    </tr>\n",
       "    <tr>\n",
       "      <th>2</th>\n",
       "      <td>10</td>\n",
       "      <td>0</td>\n",
       "      <td>0</td>\n",
       "      <td>3</td>\n",
       "      <td>Server</td>\n",
       "    </tr>\n",
       "    <tr>\n",
       "      <th>3</th>\n",
       "      <td>10</td>\n",
       "      <td>0</td>\n",
       "      <td>0</td>\n",
       "      <td>4</td>\n",
       "      <td>Dev</td>\n",
       "    </tr>\n",
       "    <tr>\n",
       "      <th>4</th>\n",
       "      <td>10</td>\n",
       "      <td>0</td>\n",
       "      <td>0</td>\n",
       "      <td>5</td>\n",
       "      <td>Dev</td>\n",
       "    </tr>\n",
       "  </tbody>\n",
       "</table>\n",
       "</div>"
      ],
      "text/plain": [
       "    0  1  2  3   label\n",
       "0  10  0  0  1    Prod\n",
       "1  10  0  0  2     Dev\n",
       "2  10  0  0  3  Server\n",
       "3  10  0  0  4     Dev\n",
       "4  10  0  0  5     Dev"
      ]
     },
     "execution_count": 180,
     "metadata": {},
     "output_type": "execute_result"
    }
   ],
   "source": [
    "import pandas as pd\n",
    "import numpy as np\n",
    "from ipaddress import ip_address\n",
    "\n",
    "df = pd.DataFrame(test_list, columns=['ip','label'])\n",
    "split_ips = df['ip'].str.split('.', expand=True)\n",
    "\n",
    "final_df = pd.concat([split_ips, df], axis=1).drop(columns=['ip'])\n",
    "final_df.head()"
   ]
  },
  {
   "cell_type": "code",
   "execution_count": 181,
   "metadata": {},
   "outputs": [],
   "source": [
    "final_df = pd.DataFrame()"
   ]
  },
  {
   "cell_type": "code",
   "execution_count": 182,
   "metadata": {},
   "outputs": [],
   "source": [
    "# Get ips with specific label\n",
    "def get_ips(label):\n",
    "    ips = final_df[final_df['label']==label]\n",
    "    return list(ips.iloc[:, :4].agg('.'.join, axis=1).values)\n",
    "\n",
    "# get_ips('Prod')"
   ]
  },
  {
   "cell_type": "code",
   "execution_count": 183,
   "metadata": {},
   "outputs": [],
   "source": [
    "# Check ips\n",
    "def check_ip(ips):\n",
    "    for i in ips:\n",
    "        try:\n",
    "            ip_address(i)\n",
    "        except:\n",
    "            print('Not a valid ip')\n",
    "            return False"
   ]
  },
  {
   "cell_type": "code",
   "execution_count": 184,
   "metadata": {},
   "outputs": [],
   "source": [
    "# Add ips to database\n",
    "def add_ips(ip_label_list):\n",
    "    # Convert new list to df format\n",
    "    ip_array = np.array(ip_label_list)\n",
    "    new_df = pd.DataFrame(ip_array, columns=['ip','label'])\n",
    "    if check_ip(new_df['ip']):\n",
    "        return\n",
    "\n",
    "    split_ips = new_df['ip'].str.split('.', expand=True)\n",
    "    final_new_df = pd.concat([split_ips, new_df], axis=1).drop(columns=['ip'])\n",
    "\n",
    "    return pd.concat([final_df, final_new_df], axis=0, ignore_index=True)"
   ]
  },
  {
   "cell_type": "code",
   "execution_count": 185,
   "metadata": {},
   "outputs": [
    {
     "data": {
      "text/html": [
       "<div>\n",
       "<style scoped>\n",
       "    .dataframe tbody tr th:only-of-type {\n",
       "        vertical-align: middle;\n",
       "    }\n",
       "\n",
       "    .dataframe tbody tr th {\n",
       "        vertical-align: top;\n",
       "    }\n",
       "\n",
       "    .dataframe thead th {\n",
       "        text-align: right;\n",
       "    }\n",
       "</style>\n",
       "<table border=\"1\" class=\"dataframe\">\n",
       "  <thead>\n",
       "    <tr style=\"text-align: right;\">\n",
       "      <th></th>\n",
       "      <th>0</th>\n",
       "      <th>1</th>\n",
       "      <th>2</th>\n",
       "      <th>3</th>\n",
       "      <th>label</th>\n",
       "    </tr>\n",
       "  </thead>\n",
       "  <tbody>\n",
       "    <tr>\n",
       "      <th>0</th>\n",
       "      <td>10</td>\n",
       "      <td>0</td>\n",
       "      <td>0</td>\n",
       "      <td>11</td>\n",
       "      <td>Prod</td>\n",
       "    </tr>\n",
       "    <tr>\n",
       "      <th>1</th>\n",
       "      <td>190</td>\n",
       "      <td>0</td>\n",
       "      <td>4</td>\n",
       "      <td>5</td>\n",
       "      <td>Dev</td>\n",
       "    </tr>\n",
       "    <tr>\n",
       "      <th>2</th>\n",
       "      <td>10</td>\n",
       "      <td>0</td>\n",
       "      <td>0</td>\n",
       "      <td>12</td>\n",
       "      <td>Server</td>\n",
       "    </tr>\n",
       "  </tbody>\n",
       "</table>\n",
       "</div>"
      ],
      "text/plain": [
       "     0  1  2   3   label\n",
       "0   10  0  0  11    Prod\n",
       "1  190  0  4   5     Dev\n",
       "2   10  0  0  12  Server"
      ]
     },
     "execution_count": 185,
     "metadata": {},
     "output_type": "execute_result"
    }
   ],
   "source": [
    "final_df = add_ips([['10.0.0.11','Prod'], ['190.0.4.5', 'Dev'], ['10.0.0.12', 'Server']])\n",
    "final_df"
   ]
  }
 ],
 "metadata": {
  "kernelspec": {
   "display_name": "Python 3.10.5 ('venv': venv)",
   "language": "python",
   "name": "python3"
  },
  "language_info": {
   "codemirror_mode": {
    "name": "ipython",
    "version": 3
   },
   "file_extension": ".py",
   "mimetype": "text/x-python",
   "name": "python",
   "nbconvert_exporter": "python",
   "pygments_lexer": "ipython3",
   "version": "3.10.5"
  },
  "orig_nbformat": 4,
  "vscode": {
   "interpreter": {
    "hash": "6b03e118e21357a090d496bd72e64c685cfb545211395fd45be1efbd460932ec"
   }
  }
 },
 "nbformat": 4,
 "nbformat_minor": 2
}
